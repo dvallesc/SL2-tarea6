{
 "cells": [
  {
   "cell_type": "markdown",
   "metadata": {},
   "source": [
    "#### Diego Fernando Valle Morales\n",
    "\n",
    "#### 20003022\n",
    "\n",
    "# Tarea 6: Backpropagation y entrenamiento XOR"
   ]
  },
  {
   "cell_type": "code",
   "execution_count": 1,
   "metadata": {},
   "outputs": [],
   "source": [
    "import numpy as np"
   ]
  },
  {
   "cell_type": "markdown",
   "metadata": {},
   "source": [
    "Combinaciones posibles para el XOR\n",
    "\n",
    "x son las entradas y y los resultados"
   ]
  },
  {
   "cell_type": "code",
   "execution_count": 2,
   "metadata": {},
   "outputs": [],
   "source": [
    "x = np.array([[0,0], [0,1], [1,0], [1,1]])\n",
    "y = np.array([[0],[1],[1],[0]])"
   ]
  },
  {
   "cell_type": "markdown",
   "metadata": {},
   "source": [
    "Se define la función de activación, la función g prima y la función que realizará el backpropagation recibiendo los pesos de la primera capa y de la segunda capa, el learning rate y la cantidad de epoch.\n",
    "\n",
    "**backpropagation**\n",
    "Se realiza primero el producto punto entre x y los pesos w1 a esto le llamaremos a1, luego a a1 se aplica la función de activación dando como resultado h1, luego se aplica el producto punto entre h1 y los pesos w2, se le llamará a2, a esto se aplica la función de activación y se le llamará h2. \n",
    "\n",
    "Por último se calcula el error al restar la h2 y y.\n",
    "\n",
    "Se calcula un delta de salida que es la multiplicación del error indicado previamente con g prima de h2, se tiene un error oculto que se calcula con el producto punto del delta de salida y w2 transpuesto. Se calcula también un delta oculto que es el resultado del error oculto por g prima de h1. con eso se tienen luego dos operaciones una que devuelve w2 que es el valor de w2 menos el learning rate multiplicado por el producto punto entre h1 y el delta de salida y un w1 que surge de restar a w1 menos el learning rate de x por el delta oculto; este proceso se repetirá la cantidad de epochs que se recibió como entrada."
   ]
  },
  {
   "cell_type": "code",
   "execution_count": 3,
   "metadata": {},
   "outputs": [],
   "source": [
    "def g(x):\n",
    "    return 1/(1+np.exp(-x))\n",
    "\n",
    "def g_prime(x):\n",
    "    return x*(1.0-x)\n",
    "\n",
    "def backpropagation(w1,w2, lr, epoch):\n",
    "    for i in range(epoch):\n",
    "        a1 = np.dot(x, w1)\n",
    "        h1 = g(a1)\n",
    "        a2 = np.dot(h1, w2)\n",
    "        h2 = g(a2)\n",
    "        \n",
    "        #Backpropagation\n",
    "        error = (np.subtract(h2, y))\n",
    "        if i % 1000 == 0:\n",
    "            print(\"Epoch: \"+str(i)+\" --- error: \" + str(np.mean(error)))\n",
    "        output_delta = error * g_prime(h2)\n",
    "        error_hidden = np.dot(output_delta, w2.T)\n",
    "        hidden_delta = error_hidden * g_prime(h1)   \n",
    "        \n",
    "        w2 = w2 - lr * np.dot(h1.T, output_delta)\n",
    "        w1 = w1 - lr * np.dot(x.T, hidden_delta)\n",
    "    return h2, error"
   ]
  },
  {
   "cell_type": "markdown",
   "metadata": {},
   "source": [
    "se calcula las dimensiones de entrada, la cantidad de entradas. Capas ocultas será la cantidad de dimensiones mas uno y w1 serán valores aleatorios de entradas y capas ocultas, mientras que w2 serán valores aleatorios de capas ocultas y salidas."
   ]
  },
  {
   "cell_type": "code",
   "execution_count": 4,
   "metadata": {},
   "outputs": [],
   "source": [
    "dim = x.shape[0]\n",
    "inputs = x.shape[1]\n",
    "hiddens = dim + 1\n",
    "outputs = y.shape[1] \n",
    "w1 = np.random.random((inputs, hiddens))\n",
    "w2 = np.random.random((hiddens, outputs))"
   ]
  },
  {
   "cell_type": "markdown",
   "metadata": {},
   "source": [
    "Se realiza a continuación el entrenamiento con w1, w2, un learning rate de 0.1 y 10,000 epochs."
   ]
  },
  {
   "cell_type": "code",
   "execution_count": 5,
   "metadata": {},
   "outputs": [
    {
     "name": "stdout",
     "output_type": "stream",
     "text": [
      "Epoch: 0 --- error: 0.23986579213805986\n",
      "Epoch: 1000 --- error: 0.007003561964554386\n",
      "Epoch: 2000 --- error: 0.010157382962470832\n",
      "Epoch: 3000 --- error: 0.0032079999833035666\n",
      "Epoch: 4000 --- error: -0.0011675995741779605\n",
      "Epoch: 5000 --- error: -5.960415026608212e-05\n",
      "Epoch: 6000 --- error: 0.0007460025009274965\n",
      "Epoch: 7000 --- error: 0.000994831291148763\n",
      "Epoch: 8000 --- error: 0.0010406412959089867\n",
      "Epoch: 9000 --- error: 0.0010161413447007765\n"
     ]
    },
    {
     "data": {
      "text/plain": [
       "array([[0.08834125],\n",
       "       [0.92535859],\n",
       "       [0.92212011],\n",
       "       [0.06805355]])"
      ]
     },
     "execution_count": 5,
     "metadata": {},
     "output_type": "execute_result"
    }
   ],
   "source": [
    "out, error = backpropagation(w1,w2, 0.1, 10000)\n",
    "out"
   ]
  },
  {
   "cell_type": "markdown",
   "metadata": {},
   "source": [
    "Se muestra a continuación el error para cada resultado."
   ]
  },
  {
   "cell_type": "code",
   "execution_count": 6,
   "metadata": {},
   "outputs": [
    {
     "data": {
      "text/plain": [
       "array([[ 0.08834125],\n",
       "       [-0.07464141],\n",
       "       [-0.07787989],\n",
       "       [ 0.06805355]])"
      ]
     },
     "execution_count": 6,
     "metadata": {},
     "output_type": "execute_result"
    }
   ],
   "source": [
    "error"
   ]
  },
  {
   "cell_type": "markdown",
   "metadata": {},
   "source": [
    "Por último se muestra la media acumulada del error."
   ]
  },
  {
   "cell_type": "code",
   "execution_count": 7,
   "metadata": {},
   "outputs": [
    {
     "data": {
      "text/plain": [
       "0.0009683761691940233"
      ]
     },
     "execution_count": 7,
     "metadata": {},
     "output_type": "execute_result"
    }
   ],
   "source": [
    "np.mean(np.sum(np.mean(error)))"
   ]
  }
 ],
 "metadata": {
  "kernelspec": {
   "display_name": "Python 3",
   "language": "python",
   "name": "python3"
  },
  "language_info": {
   "codemirror_mode": {
    "name": "ipython",
    "version": 3
   },
   "file_extension": ".py",
   "mimetype": "text/x-python",
   "name": "python",
   "nbconvert_exporter": "python",
   "pygments_lexer": "ipython3",
   "version": "3.7.4"
  }
 },
 "nbformat": 4,
 "nbformat_minor": 2
}
